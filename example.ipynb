{
 "cells": [
  {
   "cell_type": "code",
   "execution_count": 1,
   "metadata": {},
   "outputs": [
    {
     "name": "stdout",
     "output_type": "stream",
     "text": [
      "Image shape: (1140, 50, 37)\n",
      "Number of samples: 1140\n",
      "Number of classes: 5\n",
      "Class names: ['Colin Powell' 'Donald Rumsfeld' 'George W Bush' 'Gerhard Schroeder'\n",
      " 'Tony Blair']\n"
     ]
    }
   ],
   "source": [
    "from sklearn.datasets import fetch_lfw_people\n",
    "\n",
    "# Load the LFW dataset\n",
    "lfw_dataset = fetch_lfw_people(min_faces_per_person=100, resize=0.4)\n",
    "\n",
    "# Inspect data\n",
    "print(\"Image shape:\", lfw_dataset.images.shape)  # (n_samples, height, width)\n",
    "print(\"Number of samples:\", len(lfw_dataset.data))\n",
    "print(\"Number of classes:\", len(lfw_dataset.target_names))\n",
    "print(\"Class names:\", lfw_dataset.target_names)\n"
   ]
  },
  {
   "cell_type": "code",
   "execution_count": 2,
   "metadata": {},
   "outputs": [
    {
     "name": "stdout",
     "output_type": "stream",
     "text": [
      "Training set size: 798\n",
      "Testing set size: 342\n"
     ]
    }
   ],
   "source": [
    "from sklearn.model_selection import train_test_split\n",
    "from sklearn.preprocessing import StandardScaler\n",
    "\n",
    "# Flatten the image data (already in lfw_dataset.data)\n",
    "X = lfw_dataset.data  # Features (flattened images)\n",
    "y = lfw_dataset.target  # Labels (person IDs)\n",
    "\n",
    "# Scale the feature values (important for ML models)\n",
    "scaler = StandardScaler()\n",
    "X_scaled = scaler.fit_transform(X)\n",
    "\n",
    "# Split the data into training and testing sets\n",
    "X_train, X_test, y_train, y_test = train_test_split(X_scaled, y, test_size=0.3, random_state=42)\n",
    "\n",
    "# Print the split sizes\n",
    "print(\"Training set size:\", len(X_train))\n",
    "print(\"Testing set size:\", len(X_test))\n"
   ]
  }
 ],
 "metadata": {
  "kernelspec": {
   "display_name": "myenv",
   "language": "python",
   "name": "python3"
  },
  "language_info": {
   "codemirror_mode": {
    "name": "ipython",
    "version": 3
   },
   "file_extension": ".py",
   "mimetype": "text/x-python",
   "name": "python",
   "nbconvert_exporter": "python",
   "pygments_lexer": "ipython3",
   "version": "3.12.3"
  }
 },
 "nbformat": 4,
 "nbformat_minor": 2
}
